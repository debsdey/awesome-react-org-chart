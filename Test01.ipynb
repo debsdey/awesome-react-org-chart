{
  "nbformat": 4,
  "nbformat_minor": 0,
  "metadata": {
    "colab": {
      "provenance": [],
      "authorship_tag": "ABX9TyOnB2iuMLMzFIXlfzBRP9eO",
      "include_colab_link": true
    },
    "kernelspec": {
      "name": "python3",
      "display_name": "Python 3"
    }
  },
  "cells": [
    {
      "cell_type": "markdown",
      "metadata": {
        "id": "view-in-github",
        "colab_type": "text"
      },
      "source": [
        "<a href=\"https://colab.research.google.com/github/debsdey/awesome-react-org-chart/blob/master/Test01.ipynb\" target=\"_parent\"><img src=\"https://colab.research.google.com/assets/colab-badge.svg\" alt=\"Open In Colab\"/></a>"
      ]
    },
    {
      "cell_type": "code",
      "metadata": {
        "id": "ORUlKVYBvTPY",
        "colab": {
          "base_uri": "https://localhost:8080/",
          "height": 476
        },
        "outputId": "77ba8f18-b04c-4957-9f80-53ad9eae3a2d"
      },
      "source": [
        "import tensorflow as tf\n",
        "mnist = tf.keras.datasets.mnist\n",
        "\n",
        "\n",
        "(x_train, y_train), (x_test, y_test) = mnist.load_data()\n",
        "x_train, x_test = x_train / 255.0, x_test / 255.0\n",
        "\n",
        "model = tf.keras.models.Sequential([\n",
        "  tf.keras.layers.Flatten(input_shape=(28, 28)),\n",
        "  tf.keras.layers.Dense(128, activation='relu'),\n",
        "  tf.keras.layers.Dropout(0.2),\n",
        "  tf.keras.layers.Dense(10)\n",
        "])\n",
        "\n",
        "predictions = model(x_train[:1]).numpy()\n",
        "predictions\n",
        "\n",
        "tf.nn.softmax(predictions).numpy()\n",
        "\n",
        "loss_fn = tf.keras.losses.SparseCategoricalCrossentropy(from_logits=True)\n",
        "\n",
        "loss_fn(y_train[:1], predictions).numpy()\n",
        "\n",
        "model.compile(optimizer='adam',\n",
        "              loss=loss_fn,\n",
        "              metrics=['accuracy'])\n",
        "\n",
        "model.fit(x_train, y_train, epochs=5)\n",
        "\n",
        "model.evaluate(x_test,  y_test, verbose=2)\n",
        "\n",
        "probability_model = tf.keras.Sequential([\n",
        "  model,\n",
        "  tf.keras.layers.Softmax()\n",
        "])\n",
        "\n",
        "probability_model(x_test[:5])\n",
        "\n"
      ],
      "execution_count": null,
      "outputs": [
        {
          "output_type": "stream",
          "text": [
            "Epoch 1/5\n",
            "1875/1875 [==============================] - 4s 2ms/step - loss: 0.2940 - accuracy: 0.9145\n",
            "Epoch 2/5\n",
            "1875/1875 [==============================] - 4s 2ms/step - loss: 0.1392 - accuracy: 0.9577\n",
            "Epoch 3/5\n",
            "1875/1875 [==============================] - 4s 2ms/step - loss: 0.1065 - accuracy: 0.9671\n",
            "Epoch 4/5\n",
            "1875/1875 [==============================] - 4s 2ms/step - loss: 0.0879 - accuracy: 0.9725\n",
            "Epoch 5/5\n",
            "1875/1875 [==============================] - 4s 2ms/step - loss: 0.0720 - accuracy: 0.9775\n",
            "313/313 - 0s - loss: 0.0767 - accuracy: 0.9766\n"
          ],
          "name": "stdout"
        },
        {
          "output_type": "execute_result",
          "data": {
            "text/plain": [
              "<tf.Tensor: shape=(5, 10), dtype=float32, numpy=\n",
              "array([[1.03301443e-06, 2.78584644e-09, 2.48487049e-05, 3.90721165e-04,\n",
              "        2.69327963e-12, 2.09676159e-07, 6.18957630e-13, 9.99570072e-01,\n",
              "        1.35896329e-07, 1.29980117e-05],\n",
              "       [1.39613485e-08, 7.43346254e-06, 9.99988556e-01, 1.47409355e-06,\n",
              "        2.45340361e-15, 2.14528450e-06, 2.77728077e-07, 2.67814335e-13,\n",
              "        7.57135368e-08, 1.10979653e-13],\n",
              "       [3.40337436e-07, 9.99375880e-01, 5.95284619e-05, 5.25524001e-06,\n",
              "        2.22242306e-05, 5.49693141e-05, 6.49533977e-05, 1.98967886e-04,\n",
              "        2.17040753e-04, 1.01171452e-06],\n",
              "       [9.99962449e-01, 5.16669241e-09, 2.64514492e-05, 2.57265782e-07,\n",
              "        1.27236106e-07, 7.48957859e-07, 1.56400495e-06, 6.54958740e-07,\n",
              "        1.44730791e-07, 7.58266015e-06],\n",
              "       [1.33187541e-06, 8.96305519e-09, 4.60013280e-06, 2.86987813e-07,\n",
              "        9.94723439e-01, 3.06193186e-07, 3.53925861e-06, 3.55928860e-05,\n",
              "        2.70831634e-07, 5.23060560e-03]], dtype=float32)>"
            ]
          },
          "metadata": {
            "tags": []
          },
          "execution_count": 12
        }
      ]
    }
  ]
}